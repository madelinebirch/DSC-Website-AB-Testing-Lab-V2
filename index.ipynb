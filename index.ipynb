{
 "cells": [
  {
   "cell_type": "markdown",
   "metadata": {},
   "source": [
    "# Website A/B Testing - Lab\n",
    "\n",
    "## Introduction\n",
    "\n",
    "In this lab, you'll get another chance to practice your skills at conducting a full A/B test analysis. It will also be a chance to practice your data exploration and processing skills! The scenario you'll be investigating is data collected from the homepage of a music app page for audacity.\n",
    "\n",
    "## Objectives\n",
    "\n",
    "You will be able to:\n",
    "* Analyze the data from a website A/B test to draw relevant conclusions\n",
    "* Explore and analyze web action data"
   ]
  },
  {
   "cell_type": "markdown",
   "metadata": {},
   "source": [
    "## Exploratory Analysis\n",
    "\n",
    "Start by loading in the dataset stored in the file 'homepage_actions.csv'. Then conduct an exploratory analysis to get familiar with the data."
   ]
  },
  {
   "cell_type": "markdown",
   "metadata": {},
   "source": [
    "> Hints:\n",
    "    * Start investigating the id column:\n",
    "        * How many viewers also clicked?\n",
    "        * Are there any anomalies with the data; did anyone click who didn't view?\n",
    "        * Is there any overlap between the control and experiment groups? \n",
    "            * If so, how do you plan to account for this in your experimental design?"
   ]
  },
  {
   "cell_type": "code",
   "execution_count": 1,
   "metadata": {},
   "outputs": [
    {
     "data": {
      "text/html": [
       "<div>\n",
       "<style scoped>\n",
       "    .dataframe tbody tr th:only-of-type {\n",
       "        vertical-align: middle;\n",
       "    }\n",
       "\n",
       "    .dataframe tbody tr th {\n",
       "        vertical-align: top;\n",
       "    }\n",
       "\n",
       "    .dataframe thead th {\n",
       "        text-align: right;\n",
       "    }\n",
       "</style>\n",
       "<table border=\"1\" class=\"dataframe\">\n",
       "  <thead>\n",
       "    <tr style=\"text-align: right;\">\n",
       "      <th></th>\n",
       "      <th>timestamp</th>\n",
       "      <th>id</th>\n",
       "      <th>group</th>\n",
       "      <th>action</th>\n",
       "    </tr>\n",
       "  </thead>\n",
       "  <tbody>\n",
       "    <tr>\n",
       "      <th>0</th>\n",
       "      <td>2016-09-24 17:42:27.839496</td>\n",
       "      <td>804196</td>\n",
       "      <td>experiment</td>\n",
       "      <td>view</td>\n",
       "    </tr>\n",
       "    <tr>\n",
       "      <th>1</th>\n",
       "      <td>2016-09-24 19:19:03.542569</td>\n",
       "      <td>434745</td>\n",
       "      <td>experiment</td>\n",
       "      <td>view</td>\n",
       "    </tr>\n",
       "    <tr>\n",
       "      <th>2</th>\n",
       "      <td>2016-09-24 19:36:00.944135</td>\n",
       "      <td>507599</td>\n",
       "      <td>experiment</td>\n",
       "      <td>view</td>\n",
       "    </tr>\n",
       "    <tr>\n",
       "      <th>3</th>\n",
       "      <td>2016-09-24 19:59:02.646620</td>\n",
       "      <td>671993</td>\n",
       "      <td>control</td>\n",
       "      <td>view</td>\n",
       "    </tr>\n",
       "    <tr>\n",
       "      <th>4</th>\n",
       "      <td>2016-09-24 20:26:14.466886</td>\n",
       "      <td>536734</td>\n",
       "      <td>experiment</td>\n",
       "      <td>view</td>\n",
       "    </tr>\n",
       "  </tbody>\n",
       "</table>\n",
       "</div>"
      ],
      "text/plain": [
       "                    timestamp      id       group action\n",
       "0  2016-09-24 17:42:27.839496  804196  experiment   view\n",
       "1  2016-09-24 19:19:03.542569  434745  experiment   view\n",
       "2  2016-09-24 19:36:00.944135  507599  experiment   view\n",
       "3  2016-09-24 19:59:02.646620  671993     control   view\n",
       "4  2016-09-24 20:26:14.466886  536734  experiment   view"
      ]
     },
     "execution_count": 1,
     "metadata": {},
     "output_type": "execute_result"
    }
   ],
   "source": [
    "import pandas as pd\n",
    "\n",
    "# Load the dataset\n",
    "df = pd.read_csv('homepage_actions.csv')\n",
    "\n",
    "# Check the first 5 rows of the data\n",
    "df.head()\n",
    "\n"
   ]
  },
  {
   "cell_type": "code",
   "execution_count": 2,
   "metadata": {},
   "outputs": [
    {
     "name": "stdout",
     "output_type": "stream",
     "text": [
      "Number of unique viewers: 6328\n",
      "Number of viewers who also clicked: 1860\n"
     ]
    }
   ],
   "source": [
    "# Get the number of unique viewers\n",
    "num_viewers = df['id'].nunique()\n",
    "print(\"Number of unique viewers:\", num_viewers)\n",
    "\n",
    "# Get the number of viewers who also clicked\n",
    "num_clicks = df.query('action == \"click\"')['id'].nunique()\n",
    "print(\"Number of viewers who also clicked:\", num_clicks)\n",
    "\n"
   ]
  },
  {
   "cell_type": "code",
   "execution_count": 3,
   "metadata": {},
   "outputs": [
    {
     "name": "stdout",
     "output_type": "stream",
     "text": [
      "Number of viewers who only viewed: 6328\n",
      "Number of viewers who only clicked: 1860\n",
      "Number of viewers who belong to both control and experiment groups: 0\n"
     ]
    }
   ],
   "source": [
    "# Check for anomalies: viewers who clicked but didn't view\n",
    "click_view = df.groupby(['id', 'action']).size().reset_index(name='counts')\n",
    "view_only = click_view[click_view['action'] == 'view']['id'].nunique()\n",
    "click_only = click_view[click_view['action'] == 'click']['id'].nunique()\n",
    "print(\"Number of viewers who only viewed:\", view_only)\n",
    "print(\"Number of viewers who only clicked:\", click_only)\n",
    "\n",
    "# Check for overlap between control and experiment groups\n",
    "control = df[df['group'] == 'control']\n",
    "experiment = df[df['group'] == 'experiment']\n",
    "overlap = set(control['id']).intersection(set(experiment['id']))\n",
    "print(\"Number of viewers who belong to both control and experiment groups:\", len(overlap))\n",
    "\n",
    "# Plan to account for the overlap in the experimental design\n",
    "# One possible solution is to remove the overlap from both groups and ensure that each \n",
    "# unique id belongs to only one group\n",
    "\n",
    "df = df[~df['id'].isin(overlap)]\n",
    "df = df.sort_values(by=['timestamp'])\n",
    "df['id_group'] = df.groupby('id').ngroup()\n",
    "df['group'] = df['group'] + '_' + df['id_group'].astype(str)\n"
   ]
  },
  {
   "cell_type": "markdown",
   "metadata": {},
   "source": [
    "## Conduct a Statistical Test\n",
    "\n",
    "Conduct a statistical test to determine whether the experimental homepage was more effective than that of the control group."
   ]
  },
  {
   "cell_type": "code",
   "execution_count": 6,
   "metadata": {},
   "outputs": [],
   "source": [
    "import scipy.stats as stats\n",
    "\n",
    "df = pd.read_csv('homepage_actions.csv')\n",
    "df['action'] = df['action'].map({'view': 0, 'click': 1})\n"
   ]
  },
  {
   "cell_type": "code",
   "execution_count": 19,
   "metadata": {},
   "outputs": [],
   "source": [
    "# Calculate the average click-through rate for each group\n",
    "control_mean = df['action'].mean()\n",
    "experiment_mean = df['action'].mean()\n",
    "\n",
    "# Calculate the difference in means\n",
    "diff_mean = experiment_mean - control_mean\n",
    "\n",
    "# Calculate the standard error of the difference in means\n",
    "se_diff_mean = ((df['action'].var()/len(control)) + (df['action'].var()/len(df)))**0.5\n",
    "\n",
    "# Calculate the t-statistic\n",
    "t_stat = diff_mean / se_diff_mean\n",
    "\n",
    "\n"
   ]
  },
  {
   "cell_type": "code",
   "execution_count": 34,
   "metadata": {},
   "outputs": [
    {
     "name": "stdout",
     "output_type": "stream",
     "text": [
      "Difference in means: 0.0\n",
      "Standard error of the difference in means: 0.007913351122009112\n",
      "t-statistic: 0.0\n"
     ]
    }
   ],
   "source": [
    "# Print the results\n",
    "print(\"Difference in means:\", diff_mean)\n",
    "print(\"Standard error of the difference in means:\", se_diff_mean)\n",
    "print(\"t-statistic:\", t_stat)"
   ]
  },
  {
   "cell_type": "markdown",
   "metadata": {},
   "source": [
    "## Verifying Results\n",
    "\n",
    "One sensible formulation of the data to answer the hypothesis test above would be to create a binary variable representing each individual in the experiment and control group. This binary variable would represent whether or not that individual clicked on the homepage; 1 for they did and 0 if they did not. \n",
    "\n",
    "The variance for the number of successes in a sample of a binomial variable with n observations is given by:\n",
    "\n",
    "## $n\\bullet p (1-p)$\n",
    "\n",
    "Given this, perform 3 steps to verify the results of your statistical test:\n",
    "1. Calculate the expected number of clicks for the experiment group, if it had the same click-through rate as that of the control group. \n",
    "2. Calculate the number of standard deviations that the actual number of clicks was from this estimate. \n",
    "3. Finally, calculate a p-value using the normal distribution based on this z-score."
   ]
  },
  {
   "cell_type": "markdown",
   "metadata": {},
   "source": [
    "### Step 1:\n",
    "Calculate the expected number of clicks for the experiment group, if it had the same click-through rate as that of the control group. "
   ]
  },
  {
   "cell_type": "code",
   "execution_count": 32,
   "metadata": {},
   "outputs": [
    {
     "name": "stdout",
     "output_type": "stream",
     "text": [
      "The number of expected clicks for the experiment group if it had the same CTR as the control group is: 857.6848030018762\n",
      "The click-through rate of the control group is: 0.21857410881801126\n"
     ]
    }
   ],
   "source": [
    "# Calculate the CTR for the control group\n",
    "control_ctr = df[df['group'] == 'control']['action'].mean()\n",
    "\n",
    "# Calculate the expected number of clicks for the experiment group if it had the same CTR as the control group\n",
    "expected_clicks = df[df['group'] == 'experiment'].shape[0] * control_ctr\n",
    "\n",
    "print('The number of expected clicks for the experiment group if it had the same CTR as the control group is:', expected_clicks)\n",
    "print('The click-through rate of the control group is:', control_ctr)\n",
    "\n",
    "import numpy as np\n",
    "\n",
    "experiment_n = df[df['group'] == 'experiment'].shape[0]\n",
    "experiment_mean = df[df['group'] == 'experiment']['action'].mean()\n",
    "\n",
    "standard_deviation = np.sqrt(experiment_n * experiment_mean * (1 - experiment_mean))\n",
    "\n"
   ]
  },
  {
   "cell_type": "markdown",
   "metadata": {},
   "source": [
    "### Step 2:\n",
    "Calculate the number of standard deviations that the actual number of clicks was from this estimate."
   ]
  },
  {
   "cell_type": "code",
   "execution_count": 33,
   "metadata": {},
   "outputs": [
    {
     "name": "stdout",
     "output_type": "stream",
     "text": [
      "The z-score of the experiment group is 0.000673193332366104\n"
     ]
    }
   ],
   "source": [
    "z_score = (experiment_mean - control_ctr) / standard_deviation\n",
    "\n",
    "print('The z-score of the experiment group is', z_score)"
   ]
  },
  {
   "cell_type": "markdown",
   "metadata": {},
   "source": [
    "### Step 3: \n",
    "Finally, calculate a p-value using the normal distribution based on this z-score."
   ]
  },
  {
   "cell_type": "code",
   "execution_count": 35,
   "metadata": {},
   "outputs": [
    {
     "name": "stdout",
     "output_type": "stream",
     "text": [
      "p-value: 1.0\n"
     ]
    }
   ],
   "source": [
    "# Calculate the p-value\n",
    "p_value = stats.t.sf(abs(t_stat), len(df) + len(df) - 2) * 2\n",
    "\n",
    "print(\"p-value:\", p_value)"
   ]
  },
  {
   "cell_type": "markdown",
   "metadata": {},
   "source": [
    "### Analysis:\n",
    "\n",
    "Does this result roughly match that of the previous statistical test?\n",
    "\n",
    "> Comment: **Your analysis here**"
   ]
  },
  {
   "cell_type": "markdown",
   "metadata": {},
   "source": [
    "## Summary\n",
    "\n",
    "In this lab, you continued to get more practice designing and conducting AB tests. This required additional work preprocessing and formulating the initial problem in a suitable manner. Additionally, you also saw how to verify results, strengthening your knowledge of binomial variables, and reviewing initial statistical concepts of the central limit theorem, standard deviation, z-scores, and their accompanying p-values."
   ]
  }
 ],
 "metadata": {
  "kernelspec": {
   "display_name": "Python 3",
   "language": "python",
   "name": "python3"
  },
  "language_info": {
   "codemirror_mode": {
    "name": "ipython",
    "version": 3
   },
   "file_extension": ".py",
   "mimetype": "text/x-python",
   "name": "python",
   "nbconvert_exporter": "python",
   "pygments_lexer": "ipython3",
   "version": "3.8.5"
  }
 },
 "nbformat": 4,
 "nbformat_minor": 2
}
